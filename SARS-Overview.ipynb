{
 "cells": [
  {
   "cell_type": "code",
   "execution_count": 78,
   "metadata": {},
   "outputs": [],
   "source": [
    "import pandas as pd\n",
    "import numpy as np\n",
    "import seaborn as sns\n",
    "import matplotlib.pyplot as plt\n",
    "%matplotlib inline"
   ]
  },
  {
   "cell_type": "code",
   "execution_count": 79,
   "metadata": {},
   "outputs": [],
   "source": [
    "sars=pd.read_csv(\"sars_2003_complete_dataset_clean.csv\")"
   ]
  },
  {
   "cell_type": "code",
   "execution_count": 80,
   "metadata": {},
   "outputs": [
    {
     "data": {
      "text/html": [
       "<div>\n",
       "<style scoped>\n",
       "    .dataframe tbody tr th:only-of-type {\n",
       "        vertical-align: middle;\n",
       "    }\n",
       "\n",
       "    .dataframe tbody tr th {\n",
       "        vertical-align: top;\n",
       "    }\n",
       "\n",
       "    .dataframe thead th {\n",
       "        text-align: right;\n",
       "    }\n",
       "</style>\n",
       "<table border=\"1\" class=\"dataframe\">\n",
       "  <thead>\n",
       "    <tr style=\"text-align: right;\">\n",
       "      <th></th>\n",
       "      <th>Date</th>\n",
       "      <th>Country</th>\n",
       "      <th>Cumulative number of case(s)</th>\n",
       "      <th>Number of deaths</th>\n",
       "      <th>Number recovered</th>\n",
       "    </tr>\n",
       "  </thead>\n",
       "  <tbody>\n",
       "    <tr>\n",
       "      <td>0</td>\n",
       "      <td>2003-03-17</td>\n",
       "      <td>Germany</td>\n",
       "      <td>1</td>\n",
       "      <td>0</td>\n",
       "      <td>0</td>\n",
       "    </tr>\n",
       "    <tr>\n",
       "      <td>1</td>\n",
       "      <td>2003-03-17</td>\n",
       "      <td>Canada</td>\n",
       "      <td>8</td>\n",
       "      <td>2</td>\n",
       "      <td>0</td>\n",
       "    </tr>\n",
       "    <tr>\n",
       "      <td>2</td>\n",
       "      <td>2003-03-17</td>\n",
       "      <td>Singapore</td>\n",
       "      <td>20</td>\n",
       "      <td>0</td>\n",
       "      <td>0</td>\n",
       "    </tr>\n",
       "    <tr>\n",
       "      <td>3</td>\n",
       "      <td>2003-03-17</td>\n",
       "      <td>Hong Kong SAR, China</td>\n",
       "      <td>95</td>\n",
       "      <td>1</td>\n",
       "      <td>0</td>\n",
       "    </tr>\n",
       "    <tr>\n",
       "      <td>4</td>\n",
       "      <td>2003-03-17</td>\n",
       "      <td>Switzerland</td>\n",
       "      <td>2</td>\n",
       "      <td>0</td>\n",
       "      <td>0</td>\n",
       "    </tr>\n",
       "  </tbody>\n",
       "</table>\n",
       "</div>"
      ],
      "text/plain": [
       "         Date               Country  Cumulative number of case(s)  \\\n",
       "0  2003-03-17               Germany                             1   \n",
       "1  2003-03-17                Canada                             8   \n",
       "2  2003-03-17             Singapore                            20   \n",
       "3  2003-03-17  Hong Kong SAR, China                            95   \n",
       "4  2003-03-17           Switzerland                             2   \n",
       "\n",
       "   Number of deaths  Number recovered  \n",
       "0                 0                 0  \n",
       "1                 2                 0  \n",
       "2                 0                 0  \n",
       "3                 1                 0  \n",
       "4                 0                 0  "
      ]
     },
     "execution_count": 80,
     "metadata": {},
     "output_type": "execute_result"
    }
   ],
   "source": [
    "sars.head()"
   ]
  },
  {
   "cell_type": "code",
   "execution_count": 81,
   "metadata": {},
   "outputs": [],
   "source": [
    "sars[\"Date\"]=pd.to_datetime(sars[\"Date\"])"
   ]
  },
  {
   "cell_type": "code",
   "execution_count": 82,
   "metadata": {},
   "outputs": [
    {
     "data": {
      "text/html": [
       "<div>\n",
       "<style scoped>\n",
       "    .dataframe tbody tr th:only-of-type {\n",
       "        vertical-align: middle;\n",
       "    }\n",
       "\n",
       "    .dataframe tbody tr th {\n",
       "        vertical-align: top;\n",
       "    }\n",
       "\n",
       "    .dataframe thead th {\n",
       "        text-align: right;\n",
       "    }\n",
       "</style>\n",
       "<table border=\"1\" class=\"dataframe\">\n",
       "  <thead>\n",
       "    <tr style=\"text-align: right;\">\n",
       "      <th></th>\n",
       "      <th>Cumulative number of case(s)</th>\n",
       "      <th>Number of deaths</th>\n",
       "      <th>Number recovered</th>\n",
       "    </tr>\n",
       "  </thead>\n",
       "  <tbody>\n",
       "    <tr>\n",
       "      <td>count</td>\n",
       "      <td>2538.000000</td>\n",
       "      <td>2538.000000</td>\n",
       "      <td>2538.000000</td>\n",
       "    </tr>\n",
       "    <tr>\n",
       "      <td>mean</td>\n",
       "      <td>219.211978</td>\n",
       "      <td>17.812845</td>\n",
       "      <td>134.678487</td>\n",
       "    </tr>\n",
       "    <tr>\n",
       "      <td>std</td>\n",
       "      <td>825.024564</td>\n",
       "      <td>61.425627</td>\n",
       "      <td>581.595350</td>\n",
       "    </tr>\n",
       "    <tr>\n",
       "      <td>min</td>\n",
       "      <td>0.000000</td>\n",
       "      <td>0.000000</td>\n",
       "      <td>0.000000</td>\n",
       "    </tr>\n",
       "    <tr>\n",
       "      <td>25%</td>\n",
       "      <td>1.000000</td>\n",
       "      <td>0.000000</td>\n",
       "      <td>1.000000</td>\n",
       "    </tr>\n",
       "    <tr>\n",
       "      <td>50%</td>\n",
       "      <td>3.000000</td>\n",
       "      <td>0.000000</td>\n",
       "      <td>2.000000</td>\n",
       "    </tr>\n",
       "    <tr>\n",
       "      <td>75%</td>\n",
       "      <td>14.750000</td>\n",
       "      <td>2.000000</td>\n",
       "      <td>9.000000</td>\n",
       "    </tr>\n",
       "    <tr>\n",
       "      <td>max</td>\n",
       "      <td>5329.000000</td>\n",
       "      <td>348.000000</td>\n",
       "      <td>4941.000000</td>\n",
       "    </tr>\n",
       "  </tbody>\n",
       "</table>\n",
       "</div>"
      ],
      "text/plain": [
       "       Cumulative number of case(s)  Number of deaths  Number recovered\n",
       "count                   2538.000000       2538.000000       2538.000000\n",
       "mean                     219.211978         17.812845        134.678487\n",
       "std                      825.024564         61.425627        581.595350\n",
       "min                        0.000000          0.000000          0.000000\n",
       "25%                        1.000000          0.000000          1.000000\n",
       "50%                        3.000000          0.000000          2.000000\n",
       "75%                       14.750000          2.000000          9.000000\n",
       "max                     5329.000000        348.000000       4941.000000"
      ]
     },
     "execution_count": 82,
     "metadata": {},
     "output_type": "execute_result"
    }
   ],
   "source": [
    "sars.describe()"
   ]
  },
  {
   "cell_type": "code",
   "execution_count": 83,
   "metadata": {},
   "outputs": [
    {
     "name": "stdout",
     "output_type": "stream",
     "text": [
      "<class 'pandas.core.frame.DataFrame'>\n",
      "RangeIndex: 2538 entries, 0 to 2537\n",
      "Data columns (total 5 columns):\n",
      "Date                            2538 non-null datetime64[ns]\n",
      "Country                         2538 non-null object\n",
      "Cumulative number of case(s)    2538 non-null int64\n",
      "Number of deaths                2538 non-null int64\n",
      "Number recovered                2538 non-null int64\n",
      "dtypes: datetime64[ns](1), int64(3), object(1)\n",
      "memory usage: 99.3+ KB\n"
     ]
    }
   ],
   "source": [
    "sars.info()"
   ]
  },
  {
   "cell_type": "code",
   "execution_count": 84,
   "metadata": {},
   "outputs": [
    {
     "data": {
      "text/plain": [
       "37"
      ]
     },
     "execution_count": 84,
     "metadata": {},
     "output_type": "execute_result"
    }
   ],
   "source": [
    "sars[\"Country\"].nunique()"
   ]
  },
  {
   "cell_type": "code",
   "execution_count": 85,
   "metadata": {},
   "outputs": [
    {
     "data": {
      "text/plain": [
       "Date                            0\n",
       "Country                         0\n",
       "Cumulative number of case(s)    0\n",
       "Number of deaths                0\n",
       "Number recovered                0\n",
       "dtype: int64"
      ]
     },
     "execution_count": 85,
     "metadata": {},
     "output_type": "execute_result"
    }
   ],
   "source": [
    "#to check if there are any null values in the dataset\n",
    "sars.isna().sum()\n"
   ]
  },
  {
   "cell_type": "code",
   "execution_count": 86,
   "metadata": {},
   "outputs": [
    {
     "data": {
      "text/plain": [
       "0                    Germany\n",
       "1                     Canada\n",
       "2                  Singapore\n",
       "3       Hong Kong SAR, China\n",
       "4                Switzerland\n",
       "                ...         \n",
       "2533             Switzerland\n",
       "2534                Thailand\n",
       "2535          United Kingdom\n",
       "2536           United States\n",
       "2537                Viet Nam\n",
       "Name: Country, Length: 2538, dtype: object"
      ]
     },
     "execution_count": 86,
     "metadata": {},
     "output_type": "execute_result"
    }
   ],
   "source": [
    "sars[\"Country\"]"
   ]
  },
  {
   "cell_type": "code",
   "execution_count": 87,
   "metadata": {},
   "outputs": [
    {
     "name": "stdout",
     "output_type": "stream",
     "text": [
      "Country\n",
      "Australia                 0.000000\n",
      "Belgium                   0.000000\n",
      "Brazil                    0.000000\n",
      "Bulgaria                  0.000000\n",
      "Canada                   20.989583\n",
      "China                   205.604167\n",
      "Colombia                  0.000000\n",
      "Finland                   0.000000\n",
      "France                    0.011111\n",
      "Germany                   0.000000\n",
      "Hong Kong SAR, China    176.291667\n",
      "India                     0.000000\n",
      "Indonesia                 0.000000\n",
      "Italy                     0.000000\n",
      "Japan                     0.000000\n",
      "Kuwait                    0.000000\n",
      "Macao SAR, China          0.000000\n",
      "Malaysia                  1.810127\n",
      "Mongolia                  0.000000\n",
      "New Zealand               0.000000\n",
      "Philippines               1.763889\n",
      "Poland                    0.000000\n",
      "Republic of Ireland       0.000000\n",
      "Republic of Korea         0.000000\n",
      "Romania                   0.000000\n",
      "Russian Federation        0.000000\n",
      "Singapore                21.375000\n",
      "Slovenia                  0.000000\n",
      "South Africa              0.729730\n",
      "Spain                     0.000000\n",
      "Sweden                    0.000000\n",
      "Switzerland               0.000000\n",
      "Taiwan, China            37.368421\n",
      "Thailand                  1.739583\n",
      "United Kingdom            0.000000\n",
      "United States             0.000000\n",
      "Viet Nam                  4.610526\n",
      "Name: Number of deaths, dtype: float64\n"
     ]
    }
   ],
   "source": [
    "#Average death per country\n",
    "No_ofDeaths=sars[\"Number of deaths\"].groupby(sars[\"Country\"]).mean()\n",
    "print(No_ofDeaths)"
   ]
  },
  {
   "cell_type": "code",
   "execution_count": 138,
   "metadata": {},
   "outputs": [
    {
     "name": "stdout",
     "output_type": "stream",
     "text": [
      "[Date\n",
      "2003-03-17     167\n",
      "2003-03-18     219\n",
      "2003-03-19     264\n",
      "2003-03-20     306\n",
      "2003-03-21     350\n",
      "              ... \n",
      "2003-07-07    8434\n",
      "2003-07-08    8431\n",
      "2003-07-09    8431\n",
      "2003-07-10    8432\n",
      "2003-07-11    8432\n",
      "Name: Cumulative number of case(s), Length: 96, dtype: int64, Date\n",
      "2003-03-17      4\n",
      "2003-03-18      4\n",
      "2003-03-19      9\n",
      "2003-03-20     10\n",
      "2003-03-21     10\n",
      "             ... \n",
      "2003-07-07    812\n",
      "2003-07-08    812\n",
      "2003-07-09    812\n",
      "2003-07-10    812\n",
      "2003-07-11    813\n",
      "Name: Number of deaths, Length: 96, dtype: int64, Date\n",
      "2003-03-17       0\n",
      "2003-03-18       0\n",
      "2003-03-19       0\n",
      "2003-03-20       0\n",
      "2003-03-21       0\n",
      "              ... \n",
      "2003-07-07    7426\n",
      "2003-07-08    7428\n",
      "2003-07-09    7438\n",
      "2003-07-10    7444\n",
      "2003-07-11    7447\n",
      "Name: Number recovered, Length: 96, dtype: int64]\n"
     ]
    }
   ],
   "source": [
    "Cases=sars[\"Cumulative number of case(s)\"].groupby(sars[\"Date\"]).sum()\n",
    "#print(Cases)\n",
    "Deaths=sars[\"Number of deaths\"].groupby(sars[\"Date\"]).sum()\n",
    "#print(Deaths)\n",
    "Recovered=sars[\"Number recovered\"].groupby(sars[\"Date\"]).sum()\n",
    "#print(Recovered)\n",
    "Over=[Cases,Deaths,Recovered]\n",
    "print(Over)\n",
    "Overview=pd.DataFrame(Over,index=[\"Cases\",\"Deaths\",\"Recovered\"]).transpose()\n",
    "Overview.reset_index(inplace=True)"
   ]
  },
  {
   "cell_type": "code",
   "execution_count": 150,
   "metadata": {},
   "outputs": [
    {
     "data": {
      "text/html": [
       "<div>\n",
       "<style scoped>\n",
       "    .dataframe tbody tr th:only-of-type {\n",
       "        vertical-align: middle;\n",
       "    }\n",
       "\n",
       "    .dataframe tbody tr th {\n",
       "        vertical-align: top;\n",
       "    }\n",
       "\n",
       "    .dataframe thead th {\n",
       "        text-align: right;\n",
       "    }\n",
       "</style>\n",
       "<table border=\"1\" class=\"dataframe\">\n",
       "  <thead>\n",
       "    <tr style=\"text-align: right;\">\n",
       "      <th></th>\n",
       "      <th>Date</th>\n",
       "      <th>Cases</th>\n",
       "      <th>Deaths</th>\n",
       "      <th>Recovered</th>\n",
       "    </tr>\n",
       "  </thead>\n",
       "  <tbody>\n",
       "    <tr>\n",
       "      <td>91</td>\n",
       "      <td>2003-07-07</td>\n",
       "      <td>8434</td>\n",
       "      <td>812</td>\n",
       "      <td>7426</td>\n",
       "    </tr>\n",
       "    <tr>\n",
       "      <td>92</td>\n",
       "      <td>2003-07-08</td>\n",
       "      <td>8431</td>\n",
       "      <td>812</td>\n",
       "      <td>7428</td>\n",
       "    </tr>\n",
       "    <tr>\n",
       "      <td>93</td>\n",
       "      <td>2003-07-09</td>\n",
       "      <td>8431</td>\n",
       "      <td>812</td>\n",
       "      <td>7438</td>\n",
       "    </tr>\n",
       "    <tr>\n",
       "      <td>94</td>\n",
       "      <td>2003-07-10</td>\n",
       "      <td>8432</td>\n",
       "      <td>812</td>\n",
       "      <td>7444</td>\n",
       "    </tr>\n",
       "    <tr>\n",
       "      <td>95</td>\n",
       "      <td>2003-07-11</td>\n",
       "      <td>8432</td>\n",
       "      <td>813</td>\n",
       "      <td>7447</td>\n",
       "    </tr>\n",
       "  </tbody>\n",
       "</table>\n",
       "</div>"
      ],
      "text/plain": [
       "         Date  Cases  Deaths  Recovered\n",
       "91 2003-07-07   8434     812       7426\n",
       "92 2003-07-08   8431     812       7428\n",
       "93 2003-07-09   8431     812       7438\n",
       "94 2003-07-10   8432     812       7444\n",
       "95 2003-07-11   8432     813       7447"
      ]
     },
     "execution_count": 150,
     "metadata": {},
     "output_type": "execute_result"
    }
   ],
   "source": [
    "Overview.tail()"
   ]
  },
  {
   "cell_type": "code",
   "execution_count": 148,
   "metadata": {},
   "outputs": [
    {
     "data": {
      "text/plain": [
       "<matplotlib.legend.Legend at 0x1a8f644ec08>"
      ]
     },
     "execution_count": 148,
     "metadata": {},
     "output_type": "execute_result"
    },
    {
     "data": {
      "image/png": "[encoded data removed]",
      "text/plain": [
       "<Figure size 720x720 with 1 Axes>"
      ]
     },
     "metadata": {
      "needs_background": "light"
     },
     "output_type": "display_data"
    }
   ],
   "source": [
    "plt.figure(figsize=(10,10))\n",
    "plt.plot(Overview[\"Date\"],Overview[\"Cases\"],label=\"Cases\")\n",
    "plt.plot(Overview[\"Date\"],Overview[\"Deaths\"],label=\"Deaths\")\n",
    "plt.plot(Overview[\"Date\"],Overview[\"Recovered\"],label=\"Recovered\")\n",
    "plt.legend()\n"
   ]
  }
 ],
 "metadata": {
  "kernelspec": {
   "display_name": "Python 3",
   "language": "python",
   "name": "python3"
  },
  "language_info": {
   "codemirror_mode": {
    "name": "ipython",
    "version": 3
   },
   "file_extension": ".py",
   "mimetype": "text/x-python",
   "name": "python",
   "nbconvert_exporter": "python",
   "pygments_lexer": "ipython3",
   "version": "3.7.4"
  }
 },
 "nbformat": 4,
 "nbformat_minor": 2
}
